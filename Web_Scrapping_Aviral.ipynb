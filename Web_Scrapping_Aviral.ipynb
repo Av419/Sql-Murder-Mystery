{
  "nbformat": 4,
  "nbformat_minor": 0,
  "metadata": {
    "colab": {
      "provenance": [],
      "authorship_tag": "ABX9TyPp7QPRb+ptTtd/LxYr4Y67",
      "include_colab_link": true
    },
    "kernelspec": {
      "name": "python3",
      "display_name": "Python 3"
    },
    "language_info": {
      "name": "python"
    }
  },
  "cells": [
    {
      "cell_type": "markdown",
      "metadata": {
        "id": "view-in-github",
        "colab_type": "text"
      },
      "source": [
        "<a href=\"https://colab.research.google.com/github/Av419/Sql-Murder-Mystery/blob/main/Web_Scrapping_Aviral.ipynb\" target=\"_parent\"><img src=\"https://colab.research.google.com/assets/colab-badge.svg\" alt=\"Open In Colab\"/></a>"
      ]
    },
    {
      "cell_type": "code",
      "execution_count": 1,
      "metadata": {
        "id": "rnmj8H2DCMSL"
      },
      "outputs": [],
      "source": [
        "import requests\n",
        "from bs4 import BeautifulSoup as bs"
      ]
    },
    {
      "cell_type": "code",
      "source": [
        "url = 'http://books.toscrape.com/'\n",
        "response = requests.get(url)"
      ],
      "metadata": {
        "id": "SU4LU7fDCbN9"
      },
      "execution_count": 2,
      "outputs": []
    },
    {
      "cell_type": "code",
      "source": [
        "response"
      ],
      "metadata": {
        "colab": {
          "base_uri": "https://localhost:8080/"
        },
        "id": "E_O1l-pmCg02",
        "outputId": "2c3934b1-1782-4aba-a7cd-fc5464b30d88"
      },
      "execution_count": 3,
      "outputs": [
        {
          "output_type": "execute_result",
          "data": {
            "text/plain": [
              "<Response [200]>"
            ]
          },
          "metadata": {},
          "execution_count": 3
        }
      ]
    },
    {
      "cell_type": "code",
      "source": [
        "print(response.text[:1000])"
      ],
      "metadata": {
        "colab": {
          "base_uri": "https://localhost:8080/"
        },
        "id": "XjbZ7KVfClxP",
        "outputId": "a731e8cf-4ff5-4bc1-fbe8-1820ad7b35b4"
      },
      "execution_count": 4,
      "outputs": [
        {
          "output_type": "stream",
          "name": "stdout",
          "text": [
            "<!DOCTYPE html>\n",
            "<!--[if lt IE 7]>      <html lang=\"en-us\" class=\"no-js lt-ie9 lt-ie8 lt-ie7\"> <![endif]-->\n",
            "<!--[if IE 7]>         <html lang=\"en-us\" class=\"no-js lt-ie9 lt-ie8\"> <![endif]-->\n",
            "<!--[if IE 8]>         <html lang=\"en-us\" class=\"no-js lt-ie9\"> <![endif]-->\n",
            "<!--[if gt IE 8]><!--> <html lang=\"en-us\" class=\"no-js\"> <!--<![endif]-->\n",
            "    <head>\n",
            "        <title>\n",
            "    All products | Books to Scrape - Sandbox\n",
            "</title>\n",
            "\n",
            "        <meta http-equiv=\"content-type\" content=\"text/html; charset=UTF-8\" />\n",
            "        <meta name=\"created\" content=\"24th Jun 2016 09:29\" />\n",
            "        <meta name=\"description\" content=\"\" />\n",
            "        <meta name=\"viewport\" content=\"width=device-width\" />\n",
            "        <meta name=\"robots\" content=\"NOARCHIVE,NOCACHE\" />\n",
            "\n",
            "        <!-- Le HTML5 shim, for IE6-8 support of HTML elements -->\n",
            "        <!--[if lt IE 9]>\n",
            "        <script src=\"//html5shim.googlecode.com/svn/trunk/html5.js\"></script>\n",
            "        <![endif]-->\n",
            "\n",
            "        \n",
            "            <link rel=\"shortcut icon\" href=\"static/oscar/favicon.\n"
          ]
        }
      ]
    },
    {
      "cell_type": "code",
      "source": [
        "type(response.text)"
      ],
      "metadata": {
        "colab": {
          "base_uri": "https://localhost:8080/"
        },
        "id": "W3LJoOZbCr_B",
        "outputId": "cd955226-2daa-49dc-831c-7c76135bdbb4"
      },
      "execution_count": 5,
      "outputs": [
        {
          "output_type": "execute_result",
          "data": {
            "text/plain": [
              "str"
            ]
          },
          "metadata": {},
          "execution_count": 5
        }
      ]
    },
    {
      "cell_type": "code",
      "source": [
        "soup = bs(response.text)"
      ],
      "metadata": {
        "id": "SgbU463oC2Lp"
      },
      "execution_count": 6,
      "outputs": []
    },
    {
      "cell_type": "code",
      "source": [
        "type(soup)"
      ],
      "metadata": {
        "colab": {
          "base_uri": "https://localhost:8080/",
          "height": 186
        },
        "id": "C-ClEdlpC_PC",
        "outputId": "eb1940f5-7d95-4a98-8d2b-a7140d0e6ede"
      },
      "execution_count": 7,
      "outputs": [
        {
          "output_type": "execute_result",
          "data": {
            "text/plain": [
              "bs4.BeautifulSoup"
            ],
            "text/html": [
              "<div style=\"max-width:800px; border: 1px solid var(--colab-border-color);\"><style>\n",
              "      pre.function-repr-contents {\n",
              "        overflow-x: auto;\n",
              "        padding: 8px 12px;\n",
              "        max-height: 500px;\n",
              "      }\n",
              "\n",
              "      pre.function-repr-contents.function-repr-contents-collapsed {\n",
              "        cursor: pointer;\n",
              "        max-height: 100px;\n",
              "      }\n",
              "    </style>\n",
              "    <pre style=\"white-space: initial; background:\n",
              "         var(--colab-secondary-surface-color); padding: 8px 12px;\n",
              "         border-bottom: 1px solid var(--colab-border-color);\"><b>bs4.BeautifulSoup</b><br/>def __call__(*args, **kwargs)</pre><pre class=\"function-repr-contents function-repr-contents-collapsed\" style=\"\"><a class=\"filepath\" style=\"display:none\" href=\"#\">/usr/local/lib/python3.10/dist-packages/bs4/__init__.py</a>A data structure representing a parsed HTML or XML document.\n",
              "\n",
              "Most of the methods you&#x27;ll call on a BeautifulSoup object are inherited from\n",
              "PageElement or Tag.\n",
              "\n",
              "Internally, this class defines the basic interface called by the\n",
              "tree builders when converting an HTML/XML document into a data\n",
              "structure. The interface abstracts away the differences between\n",
              "parsers. To write a new tree builder, you&#x27;ll need to understand\n",
              "these methods as a whole.\n",
              "\n",
              "These methods will be called by the BeautifulSoup constructor:\n",
              "  * reset()\n",
              "  * feed(markup)\n",
              "\n",
              "The tree builder may call these methods from its feed() implementation:\n",
              "  * handle_starttag(name, attrs) # See note about return value\n",
              "  * handle_endtag(name)\n",
              "  * handle_data(data) # Appends to the current data node\n",
              "  * endData(containerClass) # Ends the current data node\n",
              "\n",
              "No matter how complicated the underlying parser is, you should be\n",
              "able to build a tree using &#x27;start tag&#x27; events, &#x27;end tag&#x27; events,\n",
              "&#x27;data&#x27; events, and &quot;done with data&quot; events.\n",
              "\n",
              "If you encounter an empty-element tag (aka a self-closing tag,\n",
              "like HTML&#x27;s &lt;br&gt; tag), call handle_starttag and then\n",
              "handle_endtag.</pre>\n",
              "      <script>\n",
              "      if (google.colab.kernel.accessAllowed && google.colab.files && google.colab.files.view) {\n",
              "        for (const element of document.querySelectorAll('.filepath')) {\n",
              "          element.style.display = 'block'\n",
              "          element.onclick = (event) => {\n",
              "            event.preventDefault();\n",
              "            event.stopPropagation();\n",
              "            google.colab.files.view(element.textContent, 76);\n",
              "          };\n",
              "        }\n",
              "      }\n",
              "      for (const element of document.querySelectorAll('.function-repr-contents')) {\n",
              "        element.onclick = (event) => {\n",
              "          event.preventDefault();\n",
              "          event.stopPropagation();\n",
              "          element.classList.toggle('function-repr-contents-collapsed');\n",
              "        };\n",
              "      }\n",
              "      </script>\n",
              "      </div>"
            ]
          },
          "metadata": {},
          "execution_count": 7
        }
      ]
    },
    {
      "cell_type": "code",
      "source": [
        "soup.find('title').text.strip()"
      ],
      "metadata": {
        "colab": {
          "base_uri": "https://localhost:8080/",
          "height": 36
        },
        "id": "kuzXh0tEC7V5",
        "outputId": "1cc244de-3ae8-4fab-ed89-6a5386cf5902"
      },
      "execution_count": 8,
      "outputs": [
        {
          "output_type": "execute_result",
          "data": {
            "text/plain": [
              "'All products | Books to Scrape - Sandbox'"
            ],
            "application/vnd.google.colaboratory.intrinsic+json": {
              "type": "string"
            }
          },
          "metadata": {},
          "execution_count": 8
        }
      ]
    },
    {
      "cell_type": "code",
      "source": [
        "books_tag = soup.find_all('article',class_ ='product_pod')"
      ],
      "metadata": {
        "id": "p2j4fAU8DGZZ"
      },
      "execution_count": 9,
      "outputs": []
    },
    {
      "cell_type": "code",
      "source": [
        "len(books_tag)"
      ],
      "metadata": {
        "colab": {
          "base_uri": "https://localhost:8080/"
        },
        "id": "he4NGgTTDPL0",
        "outputId": "220c614a-47fc-4467-b97a-5be3b3eb1abe"
      },
      "execution_count": 10,
      "outputs": [
        {
          "output_type": "execute_result",
          "data": {
            "text/plain": [
              "20"
            ]
          },
          "metadata": {},
          "execution_count": 10
        }
      ]
    },
    {
      "cell_type": "code",
      "source": [
        "book_tag = books_tag[0]\n",
        "book_tag"
      ],
      "metadata": {
        "colab": {
          "base_uri": "https://localhost:8080/"
        },
        "id": "tPwjCkWoDUOP",
        "outputId": "645dfd4d-2641-4e80-bcba-6f182ce45dcf"
      },
      "execution_count": 11,
      "outputs": [
        {
          "output_type": "execute_result",
          "data": {
            "text/plain": [
              "<article class=\"product_pod\">\n",
              "<div class=\"image_container\">\n",
              "<a href=\"catalogue/a-light-in-the-attic_1000/index.html\"><img alt=\"A Light in the Attic\" class=\"thumbnail\" src=\"media/cache/2c/da/2cdad67c44b002e7ead0cc35693c0e8b.jpg\"/></a>\n",
              "</div>\n",
              "<p class=\"star-rating Three\">\n",
              "<i class=\"icon-star\"></i>\n",
              "<i class=\"icon-star\"></i>\n",
              "<i class=\"icon-star\"></i>\n",
              "<i class=\"icon-star\"></i>\n",
              "<i class=\"icon-star\"></i>\n",
              "</p>\n",
              "<h3><a href=\"catalogue/a-light-in-the-attic_1000/index.html\" title=\"A Light in the Attic\">A Light in the ...</a></h3>\n",
              "<div class=\"product_price\">\n",
              "<p class=\"price_color\">Â£51.77</p>\n",
              "<p class=\"instock availability\">\n",
              "<i class=\"icon-ok\"></i>\n",
              "    \n",
              "        In stock\n",
              "    \n",
              "</p>\n",
              "<form>\n",
              "<button class=\"btn btn-primary btn-block\" data-loading-text=\"Adding...\" type=\"submit\">Add to basket</button>\n",
              "</form>\n",
              "</div>\n",
              "</article>"
            ]
          },
          "metadata": {},
          "execution_count": 11
        }
      ]
    },
    {
      "cell_type": "code",
      "source": [
        "title_tag = book_tag.find('a',title=True)\n",
        "title_tag"
      ],
      "metadata": {
        "colab": {
          "base_uri": "https://localhost:8080/"
        },
        "id": "rDDiQLRNDaOT",
        "outputId": "fa9d5094-3152-448c-9d68-417d807da108"
      },
      "execution_count": 12,
      "outputs": [
        {
          "output_type": "execute_result",
          "data": {
            "text/plain": [
              "<a href=\"catalogue/a-light-in-the-attic_1000/index.html\" title=\"A Light in the Attic\">A Light in the ...</a>"
            ]
          },
          "metadata": {},
          "execution_count": 12
        }
      ]
    },
    {
      "cell_type": "code",
      "source": [
        "title_tag['title']"
      ],
      "metadata": {
        "colab": {
          "base_uri": "https://localhost:8080/",
          "height": 36
        },
        "id": "HRIwkQ3gDfP8",
        "outputId": "7064e575-297b-4ea7-eb47-7fe45da34c86"
      },
      "execution_count": 13,
      "outputs": [
        {
          "output_type": "execute_result",
          "data": {
            "text/plain": [
              "'A Light in the Attic'"
            ],
            "application/vnd.google.colaboratory.intrinsic+json": {
              "type": "string"
            }
          },
          "metadata": {},
          "execution_count": 13
        }
      ]
    },
    {
      "cell_type": "markdown",
      "source": [
        "http://books.toscrape.com/catalogue/a-light-in-the-attic_1000/index.html"
      ],
      "metadata": {
        "id": "ZgF4e008AHAF"
      }
    }
  ]
}